{
 "cells": [
  {
   "cell_type": "markdown",
   "metadata": {},
   "source": [
    "<h1 style=\"color:blue; text-align: center;\">Data Modeling Template with CRISP-DM</h1> \n",
    "\n",
    "\n",
    "## Business Understanding\n",
    "- **Framing the problem**\n",
    "    - What is the expectation of analyzing the data?\n",
    "    - Is there a question to be answered?\n",
    "    - Is it completely exploratory?  (a lot of data and no questions)\n",
    "    - Is it a machine learning problem that includes a predictive model?\n",
    "    - Is a visualization or report all that is needed?\n",
    "    \n",
    "    \n",
    "- Item One\n",
    "    - Item One Sub 1\n",
    "    \n",
    "    \n",
    "1. Item One\n",
    "2. Item Two\n",
    "\n",
    "https://www.markdownguide.org/cheat-sheet/\n",
    "\n",
    "Fred *went* to the **store**.\n",
    "\n",
    "\n",
    "\n",
    "## Data Understanding\n",
    "- **Setup the workspace**\n",
    "    - Use an editor – Jupyter notebooks\n",
    "    - Folder management \n",
    "        - Root folder\n",
    "            - data folder\n",
    "            - raw folder\n",
    "            - WIP folder\n",
    "            - images folder\n",
    "            - docs folder\n",
    "- **Import and pip install libraries**\n",
    "    - Ex. Numpy, Pandas, Scikit-learn, MatPlotLib, Seaborn, Statsmodels \n",
    "- **Get the Data**\n",
    "    - Import from:\n",
    "        - csv or xls/xlsx, URL, SQL, txt, other files/connections\n",
    "- **Explore the Data**\n",
    "    - Visualize the data\n",
    "        - histograms, bar charts, scatter plots, correlation matrix\n",
    "    - Group by\n",
    "    - Value counts\n",
    "    - .info()\n",
    "    - .head()\n",
    "    - .tail()\n",
    "    - .sample()\n",
    "    - .describe()\n",
    "\n",
    "## Data Preparation\n",
    "- **Combine Data**\n",
    "    - Merge Data\n",
    "    - Concatenate Data\n",
    "    - Pivot or Melt Data\n",
    "- **Cleanse the Data**\n",
    "    - Cleaning NaN values\n",
    "        - fillna with value, median, mean, grouped mean\n",
    "        - Drop NaN\n",
    "- **Transform the Data**\n",
    "    - Change categorical data to numerical – binary, ordinal, or dummy variables\n",
    "    - Standardize and normalize the data\n",
    "    - Create a pipeline \n",
    "- **Feature Engineering**\n",
    "    - Create new variables based on other features\n",
    "        - Ex. ratios, interactions, etc. \n",
    "- **Create your X and y datasets for predictive modeling**\n",
    "    - Create a dataset for your target variable (y) and your features (X)\n",
    "\n",
    "## Modeling\n",
    "- **Split the Data**\n",
    "    - Train test split\n",
    "        - Standardize X_train and X_test (separately)\n",
    "- **Select the Model/Test**\n",
    "    - Supervised Learning\n",
    "        - Numerical target - Regression\n",
    "            - Lasso\n",
    "            - Ridge\n",
    "            - Backwards model building\n",
    "    - Categorical target – Classification\n",
    "        - Probabilistic\n",
    "            - Logistic regression\n",
    "            - Naive Bayes\n",
    "        - Decision tree modeling\n",
    "        - Ensemble\n",
    "            - Random forest\n",
    "        - SVM\n",
    "    - Unsupervised learning\n",
    "        - Clustering\n",
    "            - K-means\n",
    "            - Hierarchal\n",
    "        - Dimension Reduction\n",
    "            - PCA\n",
    "\n",
    "## Evaluation\n",
    "- **Fine tune the Model**\n",
    "    - K-folds\n",
    "    - For loop alpha scores\n",
    "    - Grid Search\n",
    "- **Evaluate the Final Model** \n",
    "    - Accuracy Scores (RMSE, etc.)\n",
    "    - Confusion matrix\n",
    "\n",
    "## Deployment\n",
    "- Identify and deploy the model for testing and production\n",
    "\n",
    "\n",
    "### Reference for Markdown\n",
    "- https://www.markdownguide.org/cheat-sheet/"
   ]
  },
  {
   "cell_type": "markdown",
   "metadata": {},
   "source": [
    "---\n",
    "<h2 style=\"color:blue; text-align: center;\">Business Understanding</h2> \n",
    "\n",
    "---\n",
    "\n",
    "## Business Objective\n",
    " - **Framing the problem**\n",
    "    - Is there a specific variable that you are looking to predict?\n",
    "        - If not - what are you looking to explore?\n",
    "        - If yes - what type of variable and what is the objective - predcitive or feature selection?\n",
    "    - Is there a question to be answered or is it completely exploratory?\n",
    "    - Is it completely exploratory?  (a lot of data and no questions)\n",
    "    - Is it a machine learning problem that includes a predictive model?\n",
    "    - Is a visualization or report all that is needed?\n",
    "    - Who is the target audience?\n",
    " \n",
    "## Technical Objective\n",
    "- Create a dataset will help meet the business objective\n",
    "    - Normalize the data to see if it provides better results\n",
    "    - Determine the best way to select and clean variables\n",
    "    - Create additional variables to enhance your model\n",
    "- What type of exploratory analysis is needed to identify the right technique?\n",
    "    - Visualizations, summarizations, and groupings\n",
    "- What are the techniques that you choose to use to solve the problem\n",
    "    - supervised vs. unsupervised learning?\n",
    "\n"
   ]
  },
  {
   "cell_type": "markdown",
   "metadata": {},
   "source": [
    "---\n",
    "<h2 style=\"color:blue; text-align: center;\">Data Understanding</h2> \n",
    "\n",
    "---\n",
    "\n",
    "## Import Libraries"
   ]
  },
  {
   "cell_type": "code",
   "execution_count": 5,
   "metadata": {},
   "outputs": [],
   "source": [
    "# import numpy as np\n",
    "# import pandas as pd\n",
    "# import matplotlib.pyplot as plt\n",
    "# %matplotlib inline \n",
    "      #if you want graphs to automatically without plt.show\n",
    "# plt.style.use('fivethirtyeight') #a stle that can be used for plots - see style reference above"
   ]
  },
  {
   "cell_type": "markdown",
   "metadata": {},
   "source": [
    "\n",
    "## Import Data\n",
    "https://pandas.pydata.org/pandas-docs/stable/api.html#flat-file\n",
    "\n",
    "- What data can be used for this data model?\n",
    "- What are the sources - are they real time or static?\n",
    "- Where will the data be housed?"
   ]
  },
  {
   "cell_type": "code",
   "execution_count": 8,
   "metadata": {},
   "outputs": [],
   "source": [
    "#df = pd.read_csv('data/Data.csv', index_col = 0, header=0) #sets the first column to the index\n",
    "# and the top row as the headers"
   ]
  },
  {
   "cell_type": "code",
   "execution_count": 10,
   "metadata": {},
   "outputs": [],
   "source": [
    "#df_excel =  pd.ExcelFile('data/RawData.xlsx') \n",
    "#print(df_excel.sheet_names)\n",
    "#df_sheet1 = df_excel.parse('Sheet1')\n",
    "#or\n",
    "#df_sheet1 = df_excel.parse('0)"
   ]
  },
  {
   "cell_type": "code",
   "execution_count": 12,
   "metadata": {},
   "outputs": [],
   "source": [
    "#url = 'https://url.com/datasets/Original.csv' \n",
    "    #url is a variable that is created that is pointed to the ile online.\n",
    "\n",
    "#df_url = pd.read_csv(url, header = 0, index_col=None)\n",
    "#df_url.head()"
   ]
  },
  {
   "cell_type": "markdown",
   "metadata": {},
   "source": [
    "### Read the Data\n",
    "- head( )\n",
    "- tail( )\n",
    "- info( )\n",
    "- describe( )"
   ]
  },
  {
   "cell_type": "code",
   "execution_count": 15,
   "metadata": {},
   "outputs": [],
   "source": [
    "#df.head(5)\n",
    "#read the top 5 records"
   ]
  },
  {
   "cell_type": "code",
   "execution_count": 17,
   "metadata": {},
   "outputs": [],
   "source": [
    "#df.tail(5)\n",
    "# read the bottom "
   ]
  },
  {
   "cell_type": "code",
   "execution_count": 19,
   "metadata": {},
   "outputs": [],
   "source": [
    "#df.info()\n",
    "#shows all variables and it type and count"
   ]
  },
  {
   "cell_type": "markdown",
   "metadata": {},
   "source": [
    "\n",
    "## Explore the data\n",
    "\n",
    "- Describe\n",
    "- Groupby\n",
    "- value_counts()\n",
    "- plot with MatPlotLib\n",
    "- plot with Seaborn"
   ]
  },
  {
   "cell_type": "code",
   "execution_count": 22,
   "metadata": {},
   "outputs": [],
   "source": [
    "#df.describe()\n",
    "#shows all descriptive stats for the dataframe"
   ]
  },
  {
   "cell_type": "code",
   "execution_count": 24,
   "metadata": {},
   "outputs": [],
   "source": [
    "#df.groupby('variable').count()\n",
    "#df.groupby('variable').mean()"
   ]
  },
  {
   "cell_type": "code",
   "execution_count": 26,
   "metadata": {},
   "outputs": [],
   "source": [
    "#df['variable'].value_counts()"
   ]
  },
  {
   "cell_type": "code",
   "execution_count": 28,
   "metadata": {},
   "outputs": [],
   "source": [
    "#import seaborn as sns"
   ]
  },
  {
   "cell_type": "code",
   "execution_count": 30,
   "metadata": {},
   "outputs": [],
   "source": [
    "#view data using Matplotlib and Seaborn to get a better idea of the data"
   ]
  },
  {
   "cell_type": "markdown",
   "metadata": {},
   "source": [
    "---\n",
    "<h2 style=\"color:blue; text-align: center;\">Data Preparation</h2> \n",
    "\n",
    "---\n",
    "\n",
    "\n",
    "## Merge, concat, melt and pivot"
   ]
  },
  {
   "cell_type": "code",
   "execution_count": 33,
   "metadata": {},
   "outputs": [],
   "source": [
    "#df_melt =pd.melt(bd_cus, id_vars=['Identifier'], \\\n",
    "                 # value_vars=['Columns that you want to merge into one column'])"
   ]
  },
  {
   "cell_type": "code",
   "execution_count": 35,
   "metadata": {},
   "outputs": [],
   "source": [
    "#df_melt.head(15)\n",
    "#view top 15 records of new dataframe"
   ]
  },
  {
   "cell_type": "code",
   "execution_count": 37,
   "metadata": {},
   "outputs": [],
   "source": [
    "#df_pivot = df_melt.pivot(index='Identifier', columns='Column that you want to split into multiple columns', \\\n",
    "                #values='Value for each of the new columns')"
   ]
  },
  {
   "cell_type": "code",
   "execution_count": 39,
   "metadata": {},
   "outputs": [],
   "source": [
    "#df_pivot.head()\n",
    "# View top records in the new pivot dataframe"
   ]
  },
  {
   "cell_type": "code",
   "execution_count": 41,
   "metadata": {},
   "outputs": [],
   "source": [
    "#df_all = pd.concat([df, df1], axis=0)\n",
    "# Concatenate two sets of data together\n",
    "# axis = 0 adds df1 underneath df\n",
    "# axis = 1 adds df1 to the right of df"
   ]
  },
  {
   "cell_type": "code",
   "execution_count": 43,
   "metadata": {},
   "outputs": [],
   "source": [
    "#df_all = pd.merge(df, df1, how='left', on='Vairable')\n",
    "# can also use inner, right, outer for how\n",
    "# on is the variable that is common between the two (normally primary and foreign keys)"
   ]
  },
  {
   "cell_type": "markdown",
   "metadata": {},
   "source": [
    "\n",
    "## Cleanse Data"
   ]
  },
  {
   "cell_type": "code",
   "execution_count": 46,
   "metadata": {},
   "outputs": [],
   "source": [
    "#df['VariableName'] = bd_merge['VariableName'].fillna('Text') - places Text in place of NaN\n",
    "#df['VariableNumber'] = bd_merge['VariableNumber'].fillna(0) - places 0 in place of NaN\n",
    "#df['VariableNumber'] = bd_merge['VariableNumber'].fillna(mean_value) - places mean in place of NaN"
   ]
  },
  {
   "cell_type": "code",
   "execution_count": 48,
   "metadata": {},
   "outputs": [],
   "source": [
    "#df['VariableNumber'] = bd_merge['VariableNumber'].fillna(method='ffill')\n",
    "#df['VariableNumber'] = bd_merge['VariableNumber'].fillna(method='bfill')"
   ]
  },
  {
   "cell_type": "markdown",
   "metadata": {},
   "source": [
    "\n",
    "## Transform Data"
   ]
  },
  {
   "cell_type": "code",
   "execution_count": 51,
   "metadata": {},
   "outputs": [],
   "source": [
    "#transform with a function\n",
    "# def gender(c):\n",
    "#  if c['Gender'] == \"Female\":\n",
    "#    return 1\n",
    "#  else:\n",
    "#    return 0\n",
    "\n",
    "#df['Gender'] = df.apply(gender, axis=1)"
   ]
  },
  {
   "cell_type": "code",
   "execution_count": 53,
   "metadata": {},
   "outputs": [],
   "source": [
    "#transform with a label encoder\n",
    "#from sklearn.preprocessing import LabelEncoder #import function for label encoder\n",
    "#lb = LabelEncoder() # label encoder to a simple abbreviation\n",
    "#df['Rank'] = lb.fit_transform(df['Rank']) "
   ]
  },
  {
   "cell_type": "code",
   "execution_count": 55,
   "metadata": {},
   "outputs": [],
   "source": [
    "#transform with pd.get_dummies\n",
    "#df_dummy = pd.Series(df['DummyVariable'])\n",
    "#df_dummy = pd.get_dummies(df_dummy)\n",
    "#df = pd.concat([df, df_dummy], axis=1)"
   ]
  },
  {
   "cell_type": "markdown",
   "metadata": {},
   "source": [
    "\n",
    "## Split Data into test and train"
   ]
  },
  {
   "cell_type": "code",
   "execution_count": 58,
   "metadata": {},
   "outputs": [],
   "source": [
    "# Must create X and y\n",
    "#from sklearn.model_selection import train_test_split\n",
    "#X_train, X_test, y_train, y_test = train_test_split(X, y, test_size = 0.3, random_state = 42)"
   ]
  },
  {
   "cell_type": "markdown",
   "metadata": {},
   "source": [
    "## Modeling techniques"
   ]
  },
  {
   "cell_type": "code",
   "execution_count": null,
   "metadata": {},
   "outputs": [],
   "source": []
  },
  {
   "cell_type": "code",
   "execution_count": null,
   "metadata": {},
   "outputs": [],
   "source": []
  },
  {
   "cell_type": "code",
   "execution_count": null,
   "metadata": {},
   "outputs": [],
   "source": []
  },
  {
   "cell_type": "code",
   "execution_count": null,
   "metadata": {},
   "outputs": [],
   "source": []
  }
 ],
 "metadata": {
  "kernelspec": {
   "display_name": "Python 3 (ipykernel)",
   "language": "python",
   "name": "python3"
  },
  "language_info": {
   "codemirror_mode": {
    "name": "ipython",
    "version": 3
   },
   "file_extension": ".py",
   "mimetype": "text/x-python",
   "name": "python",
   "nbconvert_exporter": "python",
   "pygments_lexer": "ipython3",
   "version": "3.12.4"
  }
 },
 "nbformat": 4,
 "nbformat_minor": 4
}
